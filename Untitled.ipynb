{
 "cells": [
  {
   "cell_type": "code",
   "execution_count": null,
   "id": "945673e9",
   "metadata": {},
   "outputs": [
    {
     "name": "stderr",
     "output_type": "stream",
     "text": [
      "Exception in Tkinter callback\n",
      "Traceback (most recent call last):\n",
      "  File \"C:\\Users\\sharm\\anaconda3\\lib\\tkinter\\__init__.py\", line 1892, in __call__\n",
      "    return self.func(*args)\n",
      "  File \"C:\\Users\\sharm\\AppData\\Local\\Temp/ipykernel_16080/3315740814.py\", line 54, in train_classifier\n",
      "    clf=cv2.face.LBPHFaceRecognizer_create()\n",
      "AttributeError: module 'cv2' has no attribute 'face'\n"
     ]
    }
   ],
   "source": [
    "from tkinter import *\n",
    "from tkinter import ttk\n",
    "from PIL import Image,ImageTk\n",
    "from tkinter import messagebox\n",
    "import mysql.connector\n",
    "import cv2\n",
    "import os\n",
    "import numpy as np\n",
    "\n",
    "\n",
    "class Train:\n",
    "    def __init__(self,root):\n",
    "        self.root = root\n",
    "        self.root.geometry(\"1530x790+0+0\")\n",
    "        self.root.title(\"Face Recoginition System\")\n",
    "        title_lbl = Label(self.root, text=\"Train Dataset\", font=(\"times new roman\",35,\"bold\"),bg=\"white\",fg = \"darkgreen\")\n",
    "        title_lbl.place(x=0,y=0,width=1530,height = 45)\n",
    "        \n",
    "        img_top = Image.open(r\"C:/Users/sharm/OneDrive/Desktop/Face Recognition System/College_Images/college_images/facialrecognition.png\")\n",
    "        img_top = img_top.resize((1530,325),Image.ANTIALIAS)\n",
    "        self.photoimg_top = ImageTk.PhotoImage(img_top,master=root)\n",
    "        \n",
    "        f_lbl = Label(self.root,image = self.photoimg_top)\n",
    "        f_lbl.place(x=0,y=55,width=1530,height=325)\n",
    "        \n",
    "            # Train button\n",
    "        b1_1=Button(self.root,text=\"Train Data\",command=self.train_classifier,cursor=\"hand2\",font=(\"times new roman\",30,\"bold\"),bg=\"darkblue\",fg=\"white\")\n",
    "        b1_1.place(x=0,y=380,width=1530,height=60)\n",
    "        \n",
    "        img_bottom = Image.open(r\"C:/Users/sharm/OneDrive/Desktop/Face Recognition System/College_Images/college_images/BestFacialRecognition.jpg\")\n",
    "        img_bottom = img_bottom.resize((1530,325),Image.ANTIALIAS)\n",
    "        self.photoimg_bottom = ImageTk.PhotoImage(img_bottom,master=root)\n",
    "        \n",
    "        f_lbl = Label(self.root,image = self.photoimg_bottom)\n",
    "        f_lbl.place(x=0,y=440,width=1530,height=325)\n",
    "        \n",
    "    def train_classifier(self):\n",
    "        data_dir=(\"C:/Users/sharm/OneDrive/Desktop/Face Recognition System/Data\")\n",
    "        path=[os.path.join(data_dir,file) for file in os.listdir(data_dir)]\n",
    "        faces=[]\n",
    "        ids=[]\n",
    "        for image in path:\n",
    "            img=Image.open(image).convert('L')\n",
    "            imageNp=np.array(img,'uint8')\n",
    "            Id=int(os.path.split(image)[1].split('.')[1])\n",
    "            faces.append(imageNp)\n",
    "            ids.append(Id)\n",
    "            cv2.imshow(\"Training\",imageNp)\n",
    "            cv2.waitKey(1)==13\n",
    "        ids=np.array(ids)\n",
    "        \n",
    "        # Train the classifier and save\n",
    "        \n",
    "        clf=cv2.face.LBPHFaceRecognizer_create()\n",
    "        clf.train(faces,ids)\n",
    "        clf.write('C:/Users/sharm/OneDrive/Desktop/Face Recognition System/Classifier.xml')\n",
    "        cv2.destroyAllWindows()\n",
    "        messagebox.showinfo(\"Result\",\"Training dataset completed !!\")\n",
    "        \n",
    "\n",
    "        \n",
    "            \n",
    "        \n",
    "        \n",
    "        \n",
    "        \n",
    "if __name__==\"__main__\":\n",
    "    root = Tk()\n",
    "    obj = Train(root)\n",
    "    root.mainloop()"
   ]
  },
  {
   "cell_type": "code",
   "execution_count": null,
   "id": "ee9f0ab8",
   "metadata": {},
   "outputs": [],
   "source": []
  }
 ],
 "metadata": {
  "kernelspec": {
   "display_name": "Python 3 (ipykernel)",
   "language": "python",
   "name": "python3"
  },
  "language_info": {
   "codemirror_mode": {
    "name": "ipython",
    "version": 3
   },
   "file_extension": ".py",
   "mimetype": "text/x-python",
   "name": "python",
   "nbconvert_exporter": "python",
   "pygments_lexer": "ipython3",
   "version": "3.9.7"
  }
 },
 "nbformat": 4,
 "nbformat_minor": 5
}
